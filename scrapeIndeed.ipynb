{
 "cells": [
  {
   "cell_type": "markdown",
   "id": "19f5b5d3",
   "metadata": {},
   "source": [
    "## Scraping job listing details in Indeed"
   ]
  },
  {
   "cell_type": "code",
   "execution_count": 79,
   "id": "ab638c5b",
   "metadata": {},
   "outputs": [],
   "source": [
    "import pandas as pd\n",
    "import requests\n",
    "from bs4 import BeautifulSoup"
   ]
  },
  {
   "cell_type": "code",
   "execution_count": 80,
   "id": "fb462c6a",
   "metadata": {},
   "outputs": [],
   "source": [
    "def getRecord(tag):\n",
    "    # get individual result of each card\n",
    "    url = 'https://jp.indeed.com' + tag.h2.a.get('href')\n",
    "    title = tag.h2.a.get('title')\n",
    "    company = tag.find('span', class_='company').text.strip()\n",
    "    location = tag.find('div', class_='recJobLoc').get('data-rc-loc')\n",
    "    summary = tag.find('div', class_='summary').text.strip()\n",
    "    try:\n",
    "        salary = tag.find_all('span', class_='salaryText')[0].text.strip()\n",
    "    except:\n",
    "        salary = 'not listed'\n",
    "    \n",
    "    record = (title, company, location, salary, summary, url)\n",
    "    return record\n"
   ]
  },
  {
   "cell_type": "code",
   "execution_count": 83,
   "id": "0cda6696",
   "metadata": {},
   "outputs": [],
   "source": [
    "def main(position, location):\n",
    "    \"\"\"Generate url from position and location\"\"\"\n",
    "    base = 'https://jp.indeed.com/jobs?q={}&l={}'\n",
    "    position = position.replace(' ', '+')\n",
    "    location = location.replace(' ', '+')\n",
    "    url = base.format(position, location)\n",
    "    records = list()\n",
    "    \n",
    "    while True:\n",
    "        res = requests.get(url)\n",
    "        soup = BeautifulSoup(res.text, 'html.parser')\n",
    "        tags = soup.find_all('div', class_='jobsearch-SerpJobCard')\n",
    "\n",
    "        for tag in tags:\n",
    "            record = getRecord(tag)\n",
    "            records.append(record)\n",
    "        \n",
    "        try:\n",
    "            url = 'https://jp.indeed.com' + soup.find('a', {'aria-label': '次へ'}).get('href') #get url of next page\n",
    "        except:\n",
    "            break\n",
    "    \n",
    "    #export result to csv file\n",
    "    df = pd.DataFrame(records, columns=['Title', 'Company', 'Location', 'Salary', 'Summary', 'URL'])\n",
    "    df.to_csv('results.csv', encoding='utf_8_sig')"
   ]
  },
  {
   "cell_type": "code",
   "execution_count": 84,
   "id": "a7a70986",
   "metadata": {},
   "outputs": [],
   "source": [
    "main('data analyst', '東京都')"
   ]
  },
  {
   "cell_type": "code",
   "execution_count": null,
   "id": "bef0ed5d",
   "metadata": {},
   "outputs": [],
   "source": []
  }
 ],
 "metadata": {
  "kernelspec": {
   "display_name": "Python 3",
   "language": "python",
   "name": "python3"
  },
  "language_info": {
   "codemirror_mode": {
    "name": "ipython",
    "version": 3
   },
   "file_extension": ".py",
   "mimetype": "text/x-python",
   "name": "python",
   "nbconvert_exporter": "python",
   "pygments_lexer": "ipython3",
   "version": "3.8.8"
  }
 },
 "nbformat": 4,
 "nbformat_minor": 5
}
